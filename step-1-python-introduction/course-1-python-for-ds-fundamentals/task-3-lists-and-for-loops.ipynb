{
 "cells": [
  {
   "cell_type": "markdown",
   "metadata": {},
   "source": [
    "# 🐍 Step 1 - Python Introduction \n",
    "\n",
    "## 📚 Course 1: Python for Data Science: Fundamentals \n",
    "\n",
    "## 3️⃣ Lists and Foor Loops\n",
    "\n",
    "---\n",
    "\n",
    "👦 [Anh-Thi DINH](https://dinhanhthi.com) — 🔥 [dataquest-aio](https://github.com/dinhanhthi/dataquest-aio) on Github.\n",
    "\n",
    "⚡ **Note**: Some errors in this notebook appear intentionally to illustrate the wrong commands.\n",
    "\n",
    "❓ You run this notebook on Google Colab? If \"Yes\", please replace `0` by `1` in the below cell and run it first."
   ]
  },
  {
   "cell_type": "code",
   "execution_count": 2,
   "metadata": {},
   "outputs": [],
   "source": [
    "use_colab = 0 # 1 if you use Google Colab to read/run this notebook"
   ]
  },
  {
   "cell_type": "markdown",
   "metadata": {},
   "source": [
    "## 📝 Mission 312\n",
    "\n",
    "⏬ Download the takeaway for this mission in folder `/takeaways/` [on Github](https://github.com/dinhanhthi/dataquest-aio/tree/master/takeaways). [Source](https://app.dataquest.io/m/312/lists-and-for-loops) of this mission.\n",
    "\n",
    "💡 This part is actually not so sufficient! Check [my note page](https://note.dinhanhthi.com/python-list) for more!"
   ]
  },
  {
   "cell_type": "code",
   "execution_count": 29,
   "metadata": {},
   "outputs": [
    {
     "name": "stdout",
     "output_type": "stream",
     "text": [
      "['Temple Run', 0.0, 'USD', 1724546, 4.5]\n"
     ]
    }
   ],
   "source": [
    "# this is a list\n",
    "lst = ['Temple Run', 0.0, 'USD', 1724546, 4.5]\n",
    "print(lst)"
   ]
  },
  {
   "cell_type": "code",
   "execution_count": 30,
   "metadata": {},
   "outputs": [
    {
     "name": "stdout",
     "output_type": "stream",
     "text": [
      "5\n"
     ]
    }
   ],
   "source": [
    "# how many elements in list?\n",
    "print(len(lst))"
   ]
  },
  {
   "cell_type": "code",
   "execution_count": 31,
   "metadata": {},
   "outputs": [
    {
     "name": "stdout",
     "output_type": "stream",
     "text": [
      "lst =  ['Temple Run', 0.0, 'USD', 1724546, 4.5]\n",
      "Temple Run\n"
     ]
    }
   ],
   "source": [
    "# index of list starts with 0 NOT 1\n",
    "print(\"lst = \", lst)\n",
    "print(lst[0]) # the first element"
   ]
  },
  {
   "cell_type": "code",
   "execution_count": 32,
   "metadata": {},
   "outputs": [
    {
     "name": "stdout",
     "output_type": "stream",
     "text": [
      "lst =  ['Temple Run', 0.0, 'USD', 1724546, 4.5]\n",
      "4.5\n",
      "4.5\n"
     ]
    }
   ],
   "source": [
    "# the last element\n",
    "print(\"lst = \", lst)\n",
    "print(lst[4]) # the 5th element in `lst`\n",
    "print(lst[-1]) # you can use \"-1\" if you don't know exactly the number elements in the list to get its last element"
   ]
  },
  {
   "cell_type": "markdown",
   "metadata": {},
   "source": [
    "👉 **NEGATIVE NUMBER** INDICES."
   ]
  },
  {
   "cell_type": "code",
   "execution_count": 33,
   "metadata": {},
   "outputs": [
    {
     "name": "stdout",
     "output_type": "stream",
     "text": [
      "lst =  ['Temple Run', 0.0, 'USD', 1724546, 4.5]\n",
      "4.5\n",
      "1724546\n",
      "Temple Run\n"
     ]
    }
   ],
   "source": [
    "# you can use only NEGATIVE NUMBERS to access the elements of a list\n",
    "print(\"lst = \", lst)\n",
    "print(lst[-1]) # last element\n",
    "print(lst[-2]) # the second last element\n",
    "print(lst[-5]) # the 1st element in a 5-element-list"
   ]
  },
  {
   "cell_type": "code",
   "execution_count": 34,
   "metadata": {},
   "outputs": [
    {
     "ename": "IndexError",
     "evalue": "list index out of range",
     "output_type": "error",
     "traceback": [
      "\u001b[1;31m---------------------------------------------------------------------------\u001b[0m",
      "\u001b[1;31mIndexError\u001b[0m                                Traceback (most recent call last)",
      "\u001b[1;32m<ipython-input-34-49d9eb15a5a3>\u001b[0m in \u001b[0;36m<module>\u001b[1;34m\u001b[0m\n\u001b[0;32m      1\u001b[0m \u001b[1;31m# you can't access an index exceed the number of elements in a list\u001b[0m\u001b[1;33m\u001b[0m\u001b[1;33m\u001b[0m\u001b[1;33m\u001b[0m\u001b[0m\n\u001b[1;32m----> 2\u001b[1;33m \u001b[0mprint\u001b[0m\u001b[1;33m(\u001b[0m\u001b[0mlst\u001b[0m\u001b[1;33m[\u001b[0m\u001b[1;36m5\u001b[0m\u001b[1;33m]\u001b[0m\u001b[1;33m)\u001b[0m \u001b[1;31m# it's 6th element and there is no 6th element in lst\u001b[0m\u001b[1;33m\u001b[0m\u001b[1;33m\u001b[0m\u001b[0m\n\u001b[0m",
      "\u001b[1;31mIndexError\u001b[0m: list index out of range"
     ]
    }
   ],
   "source": [
    "# you can't access an index exceed the number of elements in a list\n",
    "print(lst[5]) # it's 6th element and there is no 6th element in lst"
   ]
  },
  {
   "cell_type": "markdown",
   "metadata": {},
   "source": [
    "👉 **SLICING**: access multiples elements in a list"
   ]
  },
  {
   "cell_type": "code",
   "execution_count": 35,
   "metadata": {},
   "outputs": [
    {
     "name": "stdout",
     "output_type": "stream",
     "text": [
      "lst =  ['Temple Run', 0.0, 'USD', 1724546, 4.5]\n",
      "['Temple Run', 0.0, 'USD']\n"
     ]
    }
   ],
   "source": [
    "print(\"lst = \", lst)\n",
    "print(lst[:3]) # elements from 0 to 2 (1st to 3rd)"
   ]
  },
  {
   "cell_type": "code",
   "execution_count": 36,
   "metadata": {},
   "outputs": [
    {
     "name": "stdout",
     "output_type": "stream",
     "text": [
      "lst =  ['Temple Run', 0.0, 'USD', 1724546, 4.5]\n",
      "[0.0, 'USD']\n"
     ]
    }
   ],
   "source": [
    "# lst[a:b] considers elements from a to b-1 (NOT b)\n",
    "print(\"lst = \", lst)\n",
    "print(lst[1:3]) # elements from index 1 to 2 (2nd element to 3rd one)"
   ]
  },
  {
   "cell_type": "markdown",
   "metadata": {},
   "source": [
    "👉 **First / Last** elements."
   ]
  },
  {
   "cell_type": "code",
   "execution_count": 37,
   "metadata": {},
   "outputs": [
    {
     "name": "stdout",
     "output_type": "stream",
     "text": [
      "lst =  ['Temple Run', 0.0, 'USD', 1724546, 4.5]\n",
      "['Temple Run', 0.0, 'USD']\n",
      "['USD', 1724546, 4.5]\n"
     ]
    }
   ],
   "source": [
    "print(\"lst = \", lst)\n",
    "# if you wanna consider the FIRST 3 elements of the list\n",
    "print(lst[:3])\n",
    "\n",
    "# if you wanna consider the LAST 3 elements of the list\n",
    "print(lst[-3:])"
   ]
  },
  {
   "cell_type": "markdown",
   "metadata": {},
   "source": [
    "👉 **LIST OF LISTS**"
   ]
  },
  {
   "cell_type": "code",
   "execution_count": 38,
   "metadata": {},
   "outputs": [
    {
     "name": "stdout",
     "output_type": "stream",
     "text": [
      "[['a', 1, 2, 'b'], ['c', 3, 4, 5, 'd']]\n"
     ]
    }
   ],
   "source": [
    "# list of 2 different-size lists\n",
    "dataset_1 = [['a', 1, 2, 'b'], ['c', 3, 4, 5, 'd']]\n",
    "print(dataset_1)"
   ]
  },
  {
   "cell_type": "code",
   "execution_count": 39,
   "metadata": {},
   "outputs": [
    {
     "name": "stdout",
     "output_type": "stream",
     "text": [
      "[['a', 1, 2, 'b'], ['c', 3, 4, 5, 'd']]\n"
     ]
    }
   ],
   "source": [
    "# you can create a list like that (for more easy-looking)\n",
    "dataset_1 = [['a', 1, 2, 'b'], \n",
    "             ['c', 3, 4, 5, 'd']]\n",
    "print(dataset_1)"
   ]
  },
  {
   "cell_type": "code",
   "execution_count": 40,
   "metadata": {},
   "outputs": [
    {
     "data": {
      "text/plain": [
       "['a', 1, 2, 'b']"
      ]
     },
     "execution_count": 40,
     "metadata": {},
     "output_type": "execute_result"
    }
   ],
   "source": [
    "# access each row of the list\n",
    "dataset_1[0] # first row"
   ]
  },
  {
   "cell_type": "code",
   "execution_count": 41,
   "metadata": {},
   "outputs": [
    {
     "data": {
      "text/plain": [
       "4"
      ]
     },
     "execution_count": 41,
     "metadata": {},
     "output_type": "execute_result"
    }
   ],
   "source": [
    "# access a specific element\n",
    "dataset_1[1][2] # the 3rd element (index \"2\") of the second row (index \"1\")"
   ]
  },
  {
   "cell_type": "markdown",
   "metadata": {},
   "source": [
    "👉 **OPEN A FILE `.CSV`**\n",
    "\n",
    "You'll learn more about opening and working on a `.csv` file (*comma-separated values*) in later courses. In this course, you just keep in mind that we open this find to work with lists.\n",
    "\n",
    "In this exercise, we consider the Mobile App Store data set (Ramanathan Perumal) ([source](https://www.kaggle.com/ramamet4/app-store-apple-data-set-10k-apps))"
   ]
  },
  {
   "cell_type": "code",
   "execution_count": 4,
   "metadata": {},
   "outputs": [
    {
     "data": {
      "text/html": [
       "<div>\n",
       "<style scoped>\n",
       "    .dataframe tbody tr th:only-of-type {\n",
       "        vertical-align: middle;\n",
       "    }\n",
       "\n",
       "    .dataframe tbody tr th {\n",
       "        vertical-align: top;\n",
       "    }\n",
       "\n",
       "    .dataframe thead th {\n",
       "        text-align: right;\n",
       "    }\n",
       "</style>\n",
       "<table border=\"1\" class=\"dataframe\">\n",
       "  <thead>\n",
       "    <tr style=\"text-align: right;\">\n",
       "      <th></th>\n",
       "      <th>id</th>\n",
       "      <th>track_name</th>\n",
       "      <th>size_bytes</th>\n",
       "      <th>currency</th>\n",
       "      <th>price</th>\n",
       "      <th>rating_count_tot</th>\n",
       "      <th>rating_count_ver</th>\n",
       "      <th>user_rating</th>\n",
       "      <th>user_rating_ver</th>\n",
       "      <th>ver</th>\n",
       "      <th>cont_rating</th>\n",
       "      <th>prime_genre</th>\n",
       "      <th>sup_devices.num</th>\n",
       "      <th>ipadSc_urls.num</th>\n",
       "      <th>lang.num</th>\n",
       "      <th>vpp_lic</th>\n",
       "    </tr>\n",
       "  </thead>\n",
       "  <tbody>\n",
       "    <tr>\n",
       "      <td>0</td>\n",
       "      <td>284882215</td>\n",
       "      <td>Facebook</td>\n",
       "      <td>389879808</td>\n",
       "      <td>USD</td>\n",
       "      <td>0.0</td>\n",
       "      <td>2974676</td>\n",
       "      <td>212</td>\n",
       "      <td>3.5</td>\n",
       "      <td>3.5</td>\n",
       "      <td>95.0</td>\n",
       "      <td>4+</td>\n",
       "      <td>Social Networking</td>\n",
       "      <td>37</td>\n",
       "      <td>1</td>\n",
       "      <td>29</td>\n",
       "      <td>1</td>\n",
       "    </tr>\n",
       "    <tr>\n",
       "      <td>1</td>\n",
       "      <td>389801252</td>\n",
       "      <td>Instagram</td>\n",
       "      <td>113954816</td>\n",
       "      <td>USD</td>\n",
       "      <td>0.0</td>\n",
       "      <td>2161558</td>\n",
       "      <td>1289</td>\n",
       "      <td>4.5</td>\n",
       "      <td>4.0</td>\n",
       "      <td>10.23</td>\n",
       "      <td>12+</td>\n",
       "      <td>Photo &amp; Video</td>\n",
       "      <td>37</td>\n",
       "      <td>0</td>\n",
       "      <td>29</td>\n",
       "      <td>1</td>\n",
       "    </tr>\n",
       "    <tr>\n",
       "      <td>2</td>\n",
       "      <td>529479190</td>\n",
       "      <td>Clash of Clans</td>\n",
       "      <td>116476928</td>\n",
       "      <td>USD</td>\n",
       "      <td>0.0</td>\n",
       "      <td>2130805</td>\n",
       "      <td>579</td>\n",
       "      <td>4.5</td>\n",
       "      <td>4.5</td>\n",
       "      <td>9.24.12</td>\n",
       "      <td>9+</td>\n",
       "      <td>Games</td>\n",
       "      <td>38</td>\n",
       "      <td>5</td>\n",
       "      <td>18</td>\n",
       "      <td>1</td>\n",
       "    </tr>\n",
       "    <tr>\n",
       "      <td>3</td>\n",
       "      <td>420009108</td>\n",
       "      <td>Temple Run</td>\n",
       "      <td>65921024</td>\n",
       "      <td>USD</td>\n",
       "      <td>0.0</td>\n",
       "      <td>1724546</td>\n",
       "      <td>3842</td>\n",
       "      <td>4.5</td>\n",
       "      <td>4.0</td>\n",
       "      <td>1.6.2</td>\n",
       "      <td>9+</td>\n",
       "      <td>Games</td>\n",
       "      <td>40</td>\n",
       "      <td>5</td>\n",
       "      <td>1</td>\n",
       "      <td>1</td>\n",
       "    </tr>\n",
       "    <tr>\n",
       "      <td>4</td>\n",
       "      <td>284035177</td>\n",
       "      <td>Pandora - Music &amp; Radio</td>\n",
       "      <td>130242560</td>\n",
       "      <td>USD</td>\n",
       "      <td>0.0</td>\n",
       "      <td>1126879</td>\n",
       "      <td>3594</td>\n",
       "      <td>4.0</td>\n",
       "      <td>4.5</td>\n",
       "      <td>8.4.1</td>\n",
       "      <td>12+</td>\n",
       "      <td>Music</td>\n",
       "      <td>37</td>\n",
       "      <td>4</td>\n",
       "      <td>1</td>\n",
       "      <td>1</td>\n",
       "    </tr>\n",
       "  </tbody>\n",
       "</table>\n",
       "</div>"
      ],
      "text/plain": [
       "          id               track_name  size_bytes currency  price  \\\n",
       "0  284882215                 Facebook   389879808      USD    0.0   \n",
       "1  389801252                Instagram   113954816      USD    0.0   \n",
       "2  529479190           Clash of Clans   116476928      USD    0.0   \n",
       "3  420009108               Temple Run    65921024      USD    0.0   \n",
       "4  284035177  Pandora - Music & Radio   130242560      USD    0.0   \n",
       "\n",
       "   rating_count_tot  rating_count_ver  user_rating  user_rating_ver      ver  \\\n",
       "0           2974676               212          3.5              3.5     95.0   \n",
       "1           2161558              1289          4.5              4.0    10.23   \n",
       "2           2130805               579          4.5              4.5  9.24.12   \n",
       "3           1724546              3842          4.5              4.0    1.6.2   \n",
       "4           1126879              3594          4.0              4.5    8.4.1   \n",
       "\n",
       "  cont_rating        prime_genre  sup_devices.num  ipadSc_urls.num  lang.num  \\\n",
       "0          4+  Social Networking               37                1        29   \n",
       "1         12+      Photo & Video               37                0        29   \n",
       "2          9+              Games               38                5        18   \n",
       "3          9+              Games               40                5         1   \n",
       "4         12+              Music               37                4         1   \n",
       "\n",
       "   vpp_lic  \n",
       "0        1  \n",
       "1        1  \n",
       "2        1  \n",
       "3        1  \n",
       "4        1  "
      ]
     },
     "execution_count": 4,
     "metadata": {},
     "output_type": "execute_result"
    }
   ],
   "source": [
    "# You don't need to understand the codes in this cell today (later), I just use it to display the table.\n",
    "# But you need to run it to see the dataset\n",
    "\n",
    "import pandas as pd\n",
    "\n",
    "if use_colab:\n",
    "    dataquest_aio = 'https://raw.githubusercontent.com/dinhanhthi/dataquest-aio/master/step-1-python-introduction/'\n",
    "    dataset_url = dataquest_aio + 'course-1-python-for-ds-fundamentals/data/AppleStore.csv'\n",
    "else:\n",
    "    dataset_url = './data/AppleStore.csv' # if you use localhost\n",
    "    \n",
    "df = pd.read_csv(dataset_url, encoding=\"utf8\")\n",
    "df.head(5) # only show the first 5 rows of the dataset"
   ]
  },
  {
   "cell_type": "markdown",
   "metadata": {},
   "source": [
    "The data set above has 7,197 rows and 16 columns and we can store this data set as a list of lists."
   ]
  },
  {
   "cell_type": "code",
   "execution_count": 5,
   "metadata": {},
   "outputs": [],
   "source": [
    "from csv import reader\n",
    "from urllib.request import urlopen\n",
    "\n",
    "if use_colab: # you run this file on Google Colab?\n",
    "    opened_file = urlopen(dataset_url).read().decode('utf-8')\n",
    "    read_file = reader(opened_file.splitlines())\n",
    "else: # you run this file on localhost?\n",
    "    opened_file = open(dataset_url, encoding=\"utf8\")\n",
    "    read_file = reader(opened_file)\n",
    "\n",
    "apps_data = list(read_file)"
   ]
  },
  {
   "cell_type": "markdown",
   "metadata": {},
   "source": [
    "💡 **Explain the codes**: \n",
    "\n",
    "- First, you open the file by using `open()`. In this file, there are many \"strange\" characters, that's why you need to indicate its encoding (`encoding=\"utf8\"`).\n",
    "- After opening the file, the info are store in `opened_file`, you will use function `reader()` to read that info. Where `reader()` comes from? It comes a library so-called `csv` (someone wrote it for others to use, there are many other useful packages/libraries in the python world).\n",
    "- Finally, you transform the read table to list and store it to `apps_data`."
   ]
  },
  {
   "cell_type": "code",
   "execution_count": 43,
   "metadata": {},
   "outputs": [
    {
     "data": {
      "text/plain": [
       "['id',\n",
       " 'track_name',\n",
       " 'size_bytes',\n",
       " 'currency',\n",
       " 'price',\n",
       " 'rating_count_tot',\n",
       " 'rating_count_ver',\n",
       " 'user_rating',\n",
       " 'user_rating_ver',\n",
       " 'ver',\n",
       " 'cont_rating',\n",
       " 'prime_genre',\n",
       " 'sup_devices.num',\n",
       " 'ipadSc_urls.num',\n",
       " 'lang.num',\n",
       " 'vpp_lic']"
      ]
     },
     "execution_count": 43,
     "metadata": {},
     "output_type": "execute_result"
    }
   ],
   "source": [
    "# print the first row\n",
    "apps_data[0]"
   ]
  },
  {
   "cell_type": "code",
   "execution_count": 44,
   "metadata": {},
   "outputs": [
    {
     "data": {
      "text/plain": [
       "7198"
      ]
     },
     "execution_count": 44,
     "metadata": {},
     "output_type": "execute_result"
    }
   ],
   "source": [
    "# the number of rows in apps_data\n",
    "len(apps_data)"
   ]
  },
  {
   "cell_type": "code",
   "execution_count": 45,
   "metadata": {},
   "outputs": [],
   "source": [
    "# extract apps_data to a smaller list (just for later tests)\n",
    "apps_data_extracted = apps_data[:5] # only consider first 5 rows"
   ]
  },
  {
   "cell_type": "markdown",
   "metadata": {},
   "source": [
    "👉 **FOR LOOP**"
   ]
  },
  {
   "cell_type": "code",
   "execution_count": 46,
   "metadata": {},
   "outputs": [
    {
     "name": "stdout",
     "output_type": "stream",
     "text": [
      "3\n",
      "5\n",
      "1\n",
      "2\n"
     ]
    }
   ],
   "source": [
    "# for example, we have this list\n",
    "ratings = [3, 5, 1, 2]\n",
    "\n",
    "# how can we print all of its values?\n",
    "for element in ratings:\n",
    "    print(element)"
   ]
  },
  {
   "cell_type": "markdown",
   "metadata": {},
   "source": [
    "Note that, inside `for` loop, you need to indent the code(s) with 4 spaces (or 1 tab)."
   ]
  },
  {
   "cell_type": "code",
   "execution_count": 47,
   "metadata": {},
   "outputs": [
    {
     "name": "stdout",
     "output_type": "stream",
     "text": [
      "['id', '284882215', '389801252', '529479190', '420009108']\n"
     ]
    }
   ],
   "source": [
    "# get the 1st column in apps_data_extracted\n",
    "\n",
    "# 1st_column = [] # you cannot name a variable starting with a number like this!!!!\n",
    "column_1 = [] # initial list (an empty list)\n",
    "\n",
    "for row in apps_data_extracted:\n",
    "    column_1.append(row[0]) # add 1st element of each row to column_1 using `.append()` method\n",
    "\n",
    "print(column_1)"
   ]
  },
  {
   "cell_type": "markdown",
   "metadata": {},
   "source": [
    "Another example, we wanna find the sum of all elements in a list."
   ]
  },
  {
   "cell_type": "code",
   "execution_count": 48,
   "metadata": {},
   "outputs": [],
   "source": [
    "lst = [1, 3, 7, 9]\n",
    "# sum = 0 -> you shouldn't create a name like this (but you can!) \n",
    "#            because `sum` is a common name for already-built function in python!!!\n",
    "lst_sum = 0 # initial value of sum"
   ]
  },
  {
   "cell_type": "code",
   "execution_count": 50,
   "metadata": {
    "scrolled": true
   },
   "outputs": [
    {
     "name": "stdout",
     "output_type": "stream",
     "text": [
      "Sum of the list:  40\n",
      "Average value of the list:  10.0\n"
     ]
    }
   ],
   "source": [
    "for i in lst:\n",
    "    lst_sum += i # add i to the sum\n",
    "    \n",
    "print(\"Sum of the list: \", lst_sum)\n",
    "print(\"Average value of the list: \", lst_sum / len(lst))"
   ]
  }
 ],
 "metadata": {
  "kernelspec": {
   "display_name": "Python 3",
   "language": "python",
   "name": "python3"
  },
  "language_info": {
   "codemirror_mode": {
    "name": "ipython",
    "version": 3
   },
   "file_extension": ".py",
   "mimetype": "text/x-python",
   "name": "python",
   "nbconvert_exporter": "python",
   "pygments_lexer": "ipython3",
   "version": "3.7.4"
  }
 },
 "nbformat": 4,
 "nbformat_minor": 2
}
