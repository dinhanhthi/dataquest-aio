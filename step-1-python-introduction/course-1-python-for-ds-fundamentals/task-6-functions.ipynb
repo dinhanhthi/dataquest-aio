{
 "cells": [
  {
   "cell_type": "markdown",
   "metadata": {},
   "source": [
    "# 🐍 Step 1 - Python Introduction \n",
    "\n",
    "## 📚 Course 1: Python for Data Science: Fundamentals \n",
    "\n",
    "## 6️⃣ Functions\n",
    "\n",
    "---\n",
    "\n",
    "👦 [Anh-Thi DINH](https://dinhanhthi.com) — 🔥 [dataquest-aio](https://github.com/dinhanhthi/dataquest-aio) on Github.\n",
    "\n",
    "⚡ **Note**: Some errors in this notebook appear intentionally to illustrate the wrong commands.\n",
    "\n",
    "❓ You run this notebook on Google Colab? If \"Yes\", please replace `0` by `1` in the below cell and run it first."
   ]
  },
  {
   "cell_type": "code",
   "execution_count": 1,
   "metadata": {},
   "outputs": [],
   "source": [
    "use_colab = 0"
   ]
  },
  {
   "cell_type": "markdown",
   "metadata": {},
   "source": [
    "## 📝 Mission 315\n",
    "\n",
    "⏬ Download the takeaway for this mission in folder `/takeaways/` [on Github](https://github.com/dinhanhthi/dataquest-aio/tree/master/takeaways). [Source](https://app.dataquest.io/m/315/functions%3A-fundamentals) of this mission."
   ]
  },
  {
   "cell_type": "markdown",
   "metadata": {},
   "source": [
    "❓ **Question**: Define a function to compute square of a number.\n",
    "\n",
    "💡 **Hint**: We create a function so that we can reuse it multiple times without rewriting the same things."
   ]
  },
  {
   "cell_type": "code",
   "execution_count": 1,
   "metadata": {},
   "outputs": [
    {
     "name": "stdout",
     "output_type": "stream",
     "text": [
      "100\n",
      "256\n"
     ]
    }
   ],
   "source": [
    "# instead of doing 2 time below,\n",
    "squared_10 = 10 * 10\n",
    "squared_16 = 16 * 16\n",
    "\n",
    "# we can define this\n",
    "def square(a_number):\n",
    "    squared_number = a_number * a_number\n",
    "    return squared_number\n",
    "\n",
    "# and apply this to the numbers we want\n",
    "squared_10 = square(a_number=10)\n",
    "squared_16 = square(a_number=16)\n",
    "\n",
    "print(squared_10)\n",
    "print(squared_16)"
   ]
  },
  {
   "cell_type": "markdown",
   "metadata": {},
   "source": [
    "💡 Look carefully at the way we define a function. \n",
    "\n",
    "- All function's contents are indented!\n",
    "- We can use `return` to return the value of a function. However, we don't have to do this all time, we can have a function without returned value."
   ]
  },
  {
   "cell_type": "code",
   "execution_count": 3,
   "metadata": {},
   "outputs": [
    {
     "name": "stdout",
     "output_type": "stream",
     "text": [
      "Hello Thi !\n"
     ]
    }
   ],
   "source": [
    "# a function without returned value\n",
    "def say_hello(name):\n",
    "    print(\"Hello\", name, \"!\") # Again, new way of print!\n",
    "    \n",
    "say_hello(\"Thi\")"
   ]
  },
  {
   "cell_type": "markdown",
   "metadata": {},
   "source": [
    "👉 Before going next, we come back to the Mobile App Store data set (Ramanathan Perumal) ([source](https://www.kaggle.com/ramamet4/app-store-apple-data-set-10k-apps)),"
   ]
  },
  {
   "cell_type": "code",
   "execution_count": 2,
   "metadata": {},
   "outputs": [
    {
     "data": {
      "text/html": [
       "<div>\n",
       "<style scoped>\n",
       "    .dataframe tbody tr th:only-of-type {\n",
       "        vertical-align: middle;\n",
       "    }\n",
       "\n",
       "    .dataframe tbody tr th {\n",
       "        vertical-align: top;\n",
       "    }\n",
       "\n",
       "    .dataframe thead th {\n",
       "        text-align: right;\n",
       "    }\n",
       "</style>\n",
       "<table border=\"1\" class=\"dataframe\">\n",
       "  <thead>\n",
       "    <tr style=\"text-align: right;\">\n",
       "      <th></th>\n",
       "      <th>id</th>\n",
       "      <th>track_name</th>\n",
       "      <th>size_bytes</th>\n",
       "      <th>currency</th>\n",
       "      <th>price</th>\n",
       "      <th>rating_count_tot</th>\n",
       "      <th>rating_count_ver</th>\n",
       "      <th>user_rating</th>\n",
       "      <th>user_rating_ver</th>\n",
       "      <th>ver</th>\n",
       "      <th>cont_rating</th>\n",
       "      <th>prime_genre</th>\n",
       "      <th>sup_devices.num</th>\n",
       "      <th>ipadSc_urls.num</th>\n",
       "      <th>lang.num</th>\n",
       "      <th>vpp_lic</th>\n",
       "    </tr>\n",
       "  </thead>\n",
       "  <tbody>\n",
       "    <tr>\n",
       "      <td>0</td>\n",
       "      <td>284882215</td>\n",
       "      <td>Facebook</td>\n",
       "      <td>389879808</td>\n",
       "      <td>USD</td>\n",
       "      <td>0.0</td>\n",
       "      <td>2974676</td>\n",
       "      <td>212</td>\n",
       "      <td>3.5</td>\n",
       "      <td>3.5</td>\n",
       "      <td>95.0</td>\n",
       "      <td>4+</td>\n",
       "      <td>Social Networking</td>\n",
       "      <td>37</td>\n",
       "      <td>1</td>\n",
       "      <td>29</td>\n",
       "      <td>1</td>\n",
       "    </tr>\n",
       "    <tr>\n",
       "      <td>1</td>\n",
       "      <td>389801252</td>\n",
       "      <td>Instagram</td>\n",
       "      <td>113954816</td>\n",
       "      <td>USD</td>\n",
       "      <td>0.0</td>\n",
       "      <td>2161558</td>\n",
       "      <td>1289</td>\n",
       "      <td>4.5</td>\n",
       "      <td>4.0</td>\n",
       "      <td>10.23</td>\n",
       "      <td>12+</td>\n",
       "      <td>Photo &amp; Video</td>\n",
       "      <td>37</td>\n",
       "      <td>0</td>\n",
       "      <td>29</td>\n",
       "      <td>1</td>\n",
       "    </tr>\n",
       "    <tr>\n",
       "      <td>2</td>\n",
       "      <td>529479190</td>\n",
       "      <td>Clash of Clans</td>\n",
       "      <td>116476928</td>\n",
       "      <td>USD</td>\n",
       "      <td>0.0</td>\n",
       "      <td>2130805</td>\n",
       "      <td>579</td>\n",
       "      <td>4.5</td>\n",
       "      <td>4.5</td>\n",
       "      <td>9.24.12</td>\n",
       "      <td>9+</td>\n",
       "      <td>Games</td>\n",
       "      <td>38</td>\n",
       "      <td>5</td>\n",
       "      <td>18</td>\n",
       "      <td>1</td>\n",
       "    </tr>\n",
       "    <tr>\n",
       "      <td>3</td>\n",
       "      <td>420009108</td>\n",
       "      <td>Temple Run</td>\n",
       "      <td>65921024</td>\n",
       "      <td>USD</td>\n",
       "      <td>0.0</td>\n",
       "      <td>1724546</td>\n",
       "      <td>3842</td>\n",
       "      <td>4.5</td>\n",
       "      <td>4.0</td>\n",
       "      <td>1.6.2</td>\n",
       "      <td>9+</td>\n",
       "      <td>Games</td>\n",
       "      <td>40</td>\n",
       "      <td>5</td>\n",
       "      <td>1</td>\n",
       "      <td>1</td>\n",
       "    </tr>\n",
       "    <tr>\n",
       "      <td>4</td>\n",
       "      <td>284035177</td>\n",
       "      <td>Pandora - Music &amp; Radio</td>\n",
       "      <td>130242560</td>\n",
       "      <td>USD</td>\n",
       "      <td>0.0</td>\n",
       "      <td>1126879</td>\n",
       "      <td>3594</td>\n",
       "      <td>4.0</td>\n",
       "      <td>4.5</td>\n",
       "      <td>8.4.1</td>\n",
       "      <td>12+</td>\n",
       "      <td>Music</td>\n",
       "      <td>37</td>\n",
       "      <td>4</td>\n",
       "      <td>1</td>\n",
       "      <td>1</td>\n",
       "    </tr>\n",
       "  </tbody>\n",
       "</table>\n",
       "</div>"
      ],
      "text/plain": [
       "          id               track_name  size_bytes currency  price  \\\n",
       "0  284882215                 Facebook   389879808      USD    0.0   \n",
       "1  389801252                Instagram   113954816      USD    0.0   \n",
       "2  529479190           Clash of Clans   116476928      USD    0.0   \n",
       "3  420009108               Temple Run    65921024      USD    0.0   \n",
       "4  284035177  Pandora - Music & Radio   130242560      USD    0.0   \n",
       "\n",
       "   rating_count_tot  rating_count_ver  user_rating  user_rating_ver      ver  \\\n",
       "0           2974676               212          3.5              3.5     95.0   \n",
       "1           2161558              1289          4.5              4.0    10.23   \n",
       "2           2130805               579          4.5              4.5  9.24.12   \n",
       "3           1724546              3842          4.5              4.0    1.6.2   \n",
       "4           1126879              3594          4.0              4.5    8.4.1   \n",
       "\n",
       "  cont_rating        prime_genre  sup_devices.num  ipadSc_urls.num  lang.num  \\\n",
       "0          4+  Social Networking               37                1        29   \n",
       "1         12+      Photo & Video               37                0        29   \n",
       "2          9+              Games               38                5        18   \n",
       "3          9+              Games               40                5         1   \n",
       "4         12+              Music               37                4         1   \n",
       "\n",
       "   vpp_lic  \n",
       "0        1  \n",
       "1        1  \n",
       "2        1  \n",
       "3        1  \n",
       "4        1  "
      ]
     },
     "execution_count": 2,
     "metadata": {},
     "output_type": "execute_result"
    }
   ],
   "source": [
    "# You don't need to understand the codes in this cell today (later), I just use it to display the table.\n",
    "# But you need to run it to see the dataset\n",
    "\n",
    "import pandas as pd\n",
    "\n",
    "if use_colab:\n",
    "    dataquest_aio = 'https://raw.githubusercontent.com/dinhanhthi/dataquest-aio/master/step-1-python-introduction/'\n",
    "    dataset_url = dataquest_aio + 'course-1-python-for-ds-fundamentals/data/AppleStore.csv'\n",
    "else:\n",
    "    dataset_url = './data/AppleStore.csv' # if you use localhost\n",
    "    \n",
    "df = pd.read_csv(dataset_url, encoding=\"utf8\")\n",
    "df.head(5) # only show the first 5 rows of the dataset"
   ]
  },
  {
   "cell_type": "code",
   "execution_count": 3,
   "metadata": {},
   "outputs": [],
   "source": [
    "from csv import reader\n",
    "from urllib.request import urlopen\n",
    "\n",
    "if use_colab: # you run this file on Google Colab?\n",
    "    opened_file = urlopen(dataset_url).read().decode('utf-8')\n",
    "    read_file = reader(opened_file.splitlines())\n",
    "else: # you run this file on localhost?\n",
    "    opened_file = open(dataset_url, encoding=\"utf8\")\n",
    "    read_file = reader(opened_file)\n",
    "\n",
    "apps_data = list(read_file)"
   ]
  },
  {
   "cell_type": "markdown",
   "metadata": {},
   "source": [
    "❓ **Question**: Write a function named `extract()` that can extract any column you want from the `apps_data` data set. The function should take in the index number of a column as input.\n",
    "\n",
    "💡 **Hint**: The returned value is a list containing all rows of that column."
   ]
  },
  {
   "cell_type": "code",
   "execution_count": 7,
   "metadata": {},
   "outputs": [
    {
     "name": "stdout",
     "output_type": "stream",
     "text": [
      "['Social Networking', 'Photo & Video', 'Games', 'Games', 'Music', 'Social Networking', 'Reference', 'Games', 'Music', 'Games']\n"
     ]
    }
   ],
   "source": [
    "def extract(index):\n",
    "    column = [] # initial list\n",
    "    for row in apps_data[1:]: # loop through all rows except the first one (heading)\n",
    "        value = row[index] # take the value of each row\n",
    "        column.append(value) # add this value to the list (new column)\n",
    "    return column # return the column\n",
    "\n",
    "genres = extract(11) # exctract column 11 (cont_rating)\n",
    "print(genres[:10]) # print first 10 values of that column"
   ]
  },
  {
   "cell_type": "markdown",
   "metadata": {},
   "source": [
    "❓ **Question**: Write a function named `freq_table()` that generates a frequency table for any list.\n",
    "\n",
    "💡 **Hint**: The same as the tasks in previous sections, the different in this key is that you put all the things inside a function and return a dictionary."
   ]
  },
  {
   "cell_type": "code",
   "execution_count": 8,
   "metadata": {},
   "outputs": [
    {
     "name": "stdout",
     "output_type": "stream",
     "text": [
      "{'Social Networking': 167, 'Photo & Video': 349, 'Games': 3862, 'Music': 138, 'Reference': 64, 'Health & Fitness': 180, 'Weather': 72, 'Utilities': 248, 'Travel': 81, 'Shopping': 122, 'News': 75, 'Navigation': 46, 'Lifestyle': 144, 'Entertainment': 535, 'Food & Drink': 63, 'Sports': 114, 'Book': 112, 'Finance': 104, 'Education': 453, 'Productivity': 178, 'Business': 57, 'Catalogs': 10, 'Medical': 23}\n"
     ]
    }
   ],
   "source": [
    "def freq_table(column):\n",
    "    frequency_table = {}    \n",
    "    for value in column: # loop through all values of the column\n",
    "        if value in frequency_table: # check if that values already exist in the dict?\n",
    "            frequency_table[value] += 1 # if yes, count 1 more\n",
    "        else:\n",
    "            frequency_table[value] = 1 # if no, count 1 (first time)\n",
    "    return frequency_table\n",
    "\n",
    "genres_ft = freq_table(genres) # apply to column genre extracted in the previous step\n",
    "print(genres_ft)"
   ]
  },
  {
   "cell_type": "markdown",
   "metadata": {},
   "source": [
    "💡 Above, we combine 2 tasks to find a frequency table for a specific column. First, we write a function to extrat a column from dataset, then we find a frequency for values in that column. Now, we try to combine both of these tasks into 1 single function."
   ]
  },
  {
   "cell_type": "code",
   "execution_count": 10,
   "metadata": {},
   "outputs": [
    {
     "data": {
      "text/plain": [
       "{'3.5': 702,\n",
       " '4.5': 2663,\n",
       " '4.0': 1626,\n",
       " '3.0': 383,\n",
       " '5.0': 492,\n",
       " '2.5': 196,\n",
       " '2.0': 106,\n",
       " '1.5': 56,\n",
       " '1.0': 44,\n",
       " '0.0': 929}"
      ]
     },
     "execution_count": 10,
     "metadata": {},
     "output_type": "execute_result"
    }
   ],
   "source": [
    "def freq_table(index):\n",
    "    frequency_table = {}\n",
    "    \n",
    "    for row in apps_data[1:]:\n",
    "        value = row[index] # get the value in that column\n",
    "        if value in frequency_table:\n",
    "            frequency_table[value] += 1\n",
    "        else:\n",
    "            frequency_table[value] = 1\n",
    "            \n",
    "    return frequency_table\n",
    "\n",
    "ratings_ft = freq_table(7)\n",
    "ratings_ft"
   ]
  },
  {
   "cell_type": "markdown",
   "metadata": {},
   "source": [
    "❓ **Question**: If we wanna apply to a different data set instead of `apps_data`?\n",
    "\n",
    "💡 **Hint**: Add more than one input value for the function."
   ]
  },
  {
   "cell_type": "code",
   "execution_count": 11,
   "metadata": {},
   "outputs": [
    {
     "data": {
      "text/plain": [
       "{'3.5': 702,\n",
       " '4.5': 2663,\n",
       " '4.0': 1626,\n",
       " '3.0': 383,\n",
       " '5.0': 492,\n",
       " '2.5': 196,\n",
       " '2.0': 106,\n",
       " '1.5': 56,\n",
       " '1.0': 44,\n",
       " '0.0': 929}"
      ]
     },
     "execution_count": 11,
     "metadata": {},
     "output_type": "execute_result"
    }
   ],
   "source": [
    "def freq_table(data_set, index):\n",
    "    frequency_table = {}\n",
    "    \n",
    "    for row in data_set[1:]: # in this case, we suppose that all the input data set has a heading\n",
    "        value = row[index]\n",
    "        if value in frequency_table:\n",
    "            frequency_table[value] += 1\n",
    "        else:\n",
    "            frequency_table[value] = 1\n",
    "    \n",
    "    return frequency_table\n",
    "\n",
    "ratings_ft = freq_table(data_set=apps_data, index=7)\n",
    "ratings_ft"
   ]
  },
  {
   "cell_type": "code",
   "execution_count": 12,
   "metadata": {},
   "outputs": [
    {
     "data": {
      "text/plain": [
       "{'3.5': 702,\n",
       " '4.5': 2663,\n",
       " '4.0': 1626,\n",
       " '3.0': 383,\n",
       " '5.0': 492,\n",
       " '2.5': 196,\n",
       " '2.0': 106,\n",
       " '1.5': 56,\n",
       " '1.0': 44,\n",
       " '0.0': 929}"
      ]
     },
     "execution_count": 12,
     "metadata": {},
     "output_type": "execute_result"
    }
   ],
   "source": [
    "# You don't have to indicate the key for the function, just keep the order of input keys\n",
    "ratings_ft = freq_table(apps_data, 7)\n",
    "ratings_ft"
   ]
  },
  {
   "cell_type": "markdown",
   "metadata": {},
   "source": [
    "❓ **Question**: What's difference between indicating the key or not? "
   ]
  },
  {
   "cell_type": "code",
   "execution_count": 16,
   "metadata": {},
   "outputs": [
    {
     "name": "stdout",
     "output_type": "stream",
     "text": [
      "subtract(3, 2):  1\n",
      "subtract(2, 3):  -1\n",
      "subtract(a=3, b=2):  1\n",
      "subtract(b=2, a=3):  1\n"
     ]
    }
   ],
   "source": [
    "# define a subtract function just for testing\n",
    "def subtract(a, b):\n",
    "    return a - b\n",
    "\n",
    "print(\"subtract(3, 2): \", subtract(3, 2)) # 3 - 2\n",
    "print(\"subtract(2, 3): \", subtract(2, 3)) # 2 - 3\n",
    "\n",
    "print(\"subtract(a=3, b=2): \", subtract(a=3, b=2)) # 3 - 2\n",
    "print(\"subtract(b=2, a=3): \", subtract(b=2, a=3)) # 3 - 2"
   ]
  },
  {
   "cell_type": "markdown",
   "metadata": {},
   "source": [
    "❓ **Question**: Write a function named mean() that computes the mean for any column we want from a data set.\n",
    "\n",
    "💡 **Hint**: You can use nested functions."
   ]
  },
  {
   "cell_type": "code",
   "execution_count": 17,
   "metadata": {},
   "outputs": [
    {
     "data": {
      "text/plain": [
       "1.7262178685562666"
      ]
     },
     "execution_count": 17,
     "metadata": {},
     "output_type": "execute_result"
    }
   ],
   "source": [
    "def extract(data_set, index): # extract a column from a data set\n",
    "    column = []    \n",
    "    for row in data_set[1:]:\n",
    "        value = row[index]\n",
    "        column.append(value)    \n",
    "    return column\n",
    "\n",
    "def find_sum(a_list): # sum of all element in that column\n",
    "    a_sum = 0\n",
    "    for element in a_list:\n",
    "        a_sum += float(element)\n",
    "    return a_sum\n",
    "\n",
    "def find_length(a_list): # how many elements in that column?\n",
    "    length = 0\n",
    "    for element in a_list:\n",
    "        length += 1\n",
    "    return length\n",
    "\n",
    "def mean(data_set, index): # answer the main question\n",
    "    column = extract(data_set, index)\n",
    "    return find_sum(column) / find_length(column)\n",
    "    \n",
    "avg_price = mean(apps_data, 4)\n",
    "avg_price"
   ]
  },
  {
   "cell_type": "markdown",
   "metadata": {},
   "source": [
    "💡 If you meet an error, try to understand it and find a solution!"
   ]
  },
  {
   "cell_type": "code",
   "execution_count": 19,
   "metadata": {},
   "outputs": [
    {
     "ename": "ValueError",
     "evalue": "could not convert string to float: 'Facebook'",
     "output_type": "error",
     "traceback": [
      "\u001b[1;31m---------------------------------------------------------------------------\u001b[0m",
      "\u001b[1;31mValueError\u001b[0m                                Traceback (most recent call last)",
      "\u001b[1;32m<ipython-input-19-af4e98232272>\u001b[0m in \u001b[0;36m<module>\u001b[1;34m\u001b[0m\n\u001b[1;32m----> 1\u001b[1;33m \u001b[0mmean\u001b[0m\u001b[1;33m(\u001b[0m\u001b[0mapps_data\u001b[0m\u001b[1;33m,\u001b[0m \u001b[1;36m1\u001b[0m\u001b[1;33m)\u001b[0m\u001b[1;33m\u001b[0m\u001b[1;33m\u001b[0m\u001b[0m\n\u001b[0m",
      "\u001b[1;32m<ipython-input-17-b082b37c3348>\u001b[0m in \u001b[0;36mmean\u001b[1;34m(data_set, index)\u001b[0m\n\u001b[0;32m     19\u001b[0m \u001b[1;32mdef\u001b[0m \u001b[0mmean\u001b[0m\u001b[1;33m(\u001b[0m\u001b[0mdata_set\u001b[0m\u001b[1;33m,\u001b[0m \u001b[0mindex\u001b[0m\u001b[1;33m)\u001b[0m\u001b[1;33m:\u001b[0m\u001b[1;33m\u001b[0m\u001b[1;33m\u001b[0m\u001b[0m\n\u001b[0;32m     20\u001b[0m     \u001b[0mcolumn\u001b[0m \u001b[1;33m=\u001b[0m \u001b[0mextract\u001b[0m\u001b[1;33m(\u001b[0m\u001b[0mdata_set\u001b[0m\u001b[1;33m,\u001b[0m \u001b[0mindex\u001b[0m\u001b[1;33m)\u001b[0m\u001b[1;33m\u001b[0m\u001b[1;33m\u001b[0m\u001b[0m\n\u001b[1;32m---> 21\u001b[1;33m     \u001b[1;32mreturn\u001b[0m \u001b[0mfind_sum\u001b[0m\u001b[1;33m(\u001b[0m\u001b[0mcolumn\u001b[0m\u001b[1;33m)\u001b[0m \u001b[1;33m/\u001b[0m \u001b[0mfind_length\u001b[0m\u001b[1;33m(\u001b[0m\u001b[0mcolumn\u001b[0m\u001b[1;33m)\u001b[0m\u001b[1;33m\u001b[0m\u001b[1;33m\u001b[0m\u001b[0m\n\u001b[0m\u001b[0;32m     22\u001b[0m \u001b[1;33m\u001b[0m\u001b[0m\n\u001b[0;32m     23\u001b[0m \u001b[0mavg_price\u001b[0m \u001b[1;33m=\u001b[0m \u001b[0mmean\u001b[0m\u001b[1;33m(\u001b[0m\u001b[0mapps_data\u001b[0m\u001b[1;33m,\u001b[0m \u001b[1;36m4\u001b[0m\u001b[1;33m)\u001b[0m\u001b[1;33m\u001b[0m\u001b[1;33m\u001b[0m\u001b[0m\n",
      "\u001b[1;32m<ipython-input-17-b082b37c3348>\u001b[0m in \u001b[0;36mfind_sum\u001b[1;34m(a_list)\u001b[0m\n\u001b[0;32m      9\u001b[0m     \u001b[0ma_sum\u001b[0m \u001b[1;33m=\u001b[0m \u001b[1;36m0\u001b[0m\u001b[1;33m\u001b[0m\u001b[1;33m\u001b[0m\u001b[0m\n\u001b[0;32m     10\u001b[0m     \u001b[1;32mfor\u001b[0m \u001b[0melement\u001b[0m \u001b[1;32min\u001b[0m \u001b[0ma_list\u001b[0m\u001b[1;33m:\u001b[0m\u001b[1;33m\u001b[0m\u001b[1;33m\u001b[0m\u001b[0m\n\u001b[1;32m---> 11\u001b[1;33m         \u001b[0ma_sum\u001b[0m \u001b[1;33m+=\u001b[0m \u001b[0mfloat\u001b[0m\u001b[1;33m(\u001b[0m\u001b[0melement\u001b[0m\u001b[1;33m)\u001b[0m\u001b[1;33m\u001b[0m\u001b[1;33m\u001b[0m\u001b[0m\n\u001b[0m\u001b[0;32m     12\u001b[0m     \u001b[1;32mreturn\u001b[0m \u001b[0ma_sum\u001b[0m\u001b[1;33m\u001b[0m\u001b[1;33m\u001b[0m\u001b[0m\n\u001b[0;32m     13\u001b[0m \u001b[1;33m\u001b[0m\u001b[0m\n",
      "\u001b[1;31mValueError\u001b[0m: could not convert string to float: 'Facebook'"
     ]
    }
   ],
   "source": [
    "mean(apps_data, 1)"
   ]
  },
  {
   "cell_type": "markdown",
   "metadata": {},
   "source": [
    "💡 `could not convert string to float: 'Facebook'` => can you guess the meaning of this error?\n",
    "\n",
    "1. First thing, check the last line to see an description of an error, in this key, it's a `ValueError`.\n",
    "2. Follow `--->` to find where the error occurs?\n",
    "3. Try to understand and solve!"
   ]
  },
  {
   "cell_type": "markdown",
   "metadata": {},
   "source": [
    "---"
   ]
  },
  {
   "cell_type": "markdown",
   "metadata": {},
   "source": [
    "## 📝 Mission 316\n",
    "\n",
    "⏬ Download the takeaway for this mission in folder `/takeaways/` [on Github](https://github.com/dinhanhthi/dataquest-aio/tree/master/takeaways). [Source](https://app.dataquest.io/m/316/functions%3A-intermediate) of this mission."
   ]
  },
  {
   "cell_type": "code",
   "execution_count": null,
   "metadata": {},
   "outputs": [],
   "source": []
  }
 ],
 "metadata": {
  "kernelspec": {
   "display_name": "Python 3",
   "language": "python",
   "name": "python3"
  },
  "language_info": {
   "codemirror_mode": {
    "name": "ipython",
    "version": 3
   },
   "file_extension": ".py",
   "mimetype": "text/x-python",
   "name": "python",
   "nbconvert_exporter": "python",
   "pygments_lexer": "ipython3",
   "version": "3.7.4"
  }
 },
 "nbformat": 4,
 "nbformat_minor": 2
}
