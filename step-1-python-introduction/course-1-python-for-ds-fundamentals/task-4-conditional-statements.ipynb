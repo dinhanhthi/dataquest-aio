{
 "cells": [
  {
   "cell_type": "markdown",
   "metadata": {},
   "source": [
    "# 🐍 Step 1 - Python Introduction \n",
    "\n",
    "## 📚 Course 1: Python for Data Science: Fundamentals \n",
    "\n",
    "## 4️⃣ Conditional Statements\n",
    "\n",
    "---\n",
    "\n",
    "👦 [Anh-Thi DINH](https://dinhanhthi.com) — 🔥 [dataquest-aio](https://github.com/dinhanhthi/dataquest-aio) on Github.\n",
    "\n",
    "⚡ **Note**: Some errors in this notebook appear intentionally to illustrate the wrong commands.\n",
    "\n",
    "❓ You run this notebook on Google Colab? If \"Yes\", please replace `0` by `1` in the below cell and run it first."
   ]
  },
  {
   "cell_type": "code",
   "execution_count": 7,
   "metadata": {},
   "outputs": [],
   "source": [
    "use_colab = 1 # 1 if you use Google Colab to read/run this notebook"
   ]
  },
  {
   "cell_type": "markdown",
   "metadata": {},
   "source": [
    "## 📝 Mission 313\n",
    "\n",
    "⏬ Download the takeaway for this mission in folder `/takeaways/` [on Github](https://github.com/dinhanhthi/dataquest-aio/tree/master/takeaways). [Source](https://app.dataquest.io/m/313/conditional-statements/8/comparison-operators) of this mission.\n",
    "\n",
    "👉 Before going deeply the exercises, we recall the Mobile App Store data set (Ramanathan Perumal) ([source](https://www.kaggle.com/ramamet4/app-store-apple-data-set-10k-apps)),"
   ]
  },
  {
   "cell_type": "code",
   "execution_count": 15,
   "metadata": {
    "scrolled": true
   },
   "outputs": [
    {
     "data": {
      "text/html": [
       "<div>\n",
       "<style scoped>\n",
       "    .dataframe tbody tr th:only-of-type {\n",
       "        vertical-align: middle;\n",
       "    }\n",
       "\n",
       "    .dataframe tbody tr th {\n",
       "        vertical-align: top;\n",
       "    }\n",
       "\n",
       "    .dataframe thead th {\n",
       "        text-align: right;\n",
       "    }\n",
       "</style>\n",
       "<table border=\"1\" class=\"dataframe\">\n",
       "  <thead>\n",
       "    <tr style=\"text-align: right;\">\n",
       "      <th></th>\n",
       "      <th>id</th>\n",
       "      <th>track_name</th>\n",
       "      <th>size_bytes</th>\n",
       "      <th>currency</th>\n",
       "      <th>price</th>\n",
       "      <th>rating_count_tot</th>\n",
       "      <th>rating_count_ver</th>\n",
       "      <th>user_rating</th>\n",
       "      <th>user_rating_ver</th>\n",
       "      <th>ver</th>\n",
       "      <th>cont_rating</th>\n",
       "      <th>prime_genre</th>\n",
       "      <th>sup_devices.num</th>\n",
       "      <th>ipadSc_urls.num</th>\n",
       "      <th>lang.num</th>\n",
       "      <th>vpp_lic</th>\n",
       "    </tr>\n",
       "  </thead>\n",
       "  <tbody>\n",
       "    <tr>\n",
       "      <td>0</td>\n",
       "      <td>284882215</td>\n",
       "      <td>Facebook</td>\n",
       "      <td>389879808</td>\n",
       "      <td>USD</td>\n",
       "      <td>0.0</td>\n",
       "      <td>2974676</td>\n",
       "      <td>212</td>\n",
       "      <td>3.5</td>\n",
       "      <td>3.5</td>\n",
       "      <td>95.0</td>\n",
       "      <td>4+</td>\n",
       "      <td>Social Networking</td>\n",
       "      <td>37</td>\n",
       "      <td>1</td>\n",
       "      <td>29</td>\n",
       "      <td>1</td>\n",
       "    </tr>\n",
       "    <tr>\n",
       "      <td>1</td>\n",
       "      <td>389801252</td>\n",
       "      <td>Instagram</td>\n",
       "      <td>113954816</td>\n",
       "      <td>USD</td>\n",
       "      <td>0.0</td>\n",
       "      <td>2161558</td>\n",
       "      <td>1289</td>\n",
       "      <td>4.5</td>\n",
       "      <td>4.0</td>\n",
       "      <td>10.23</td>\n",
       "      <td>12+</td>\n",
       "      <td>Photo &amp; Video</td>\n",
       "      <td>37</td>\n",
       "      <td>0</td>\n",
       "      <td>29</td>\n",
       "      <td>1</td>\n",
       "    </tr>\n",
       "    <tr>\n",
       "      <td>2</td>\n",
       "      <td>529479190</td>\n",
       "      <td>Clash of Clans</td>\n",
       "      <td>116476928</td>\n",
       "      <td>USD</td>\n",
       "      <td>0.0</td>\n",
       "      <td>2130805</td>\n",
       "      <td>579</td>\n",
       "      <td>4.5</td>\n",
       "      <td>4.5</td>\n",
       "      <td>9.24.12</td>\n",
       "      <td>9+</td>\n",
       "      <td>Games</td>\n",
       "      <td>38</td>\n",
       "      <td>5</td>\n",
       "      <td>18</td>\n",
       "      <td>1</td>\n",
       "    </tr>\n",
       "    <tr>\n",
       "      <td>3</td>\n",
       "      <td>420009108</td>\n",
       "      <td>Temple Run</td>\n",
       "      <td>65921024</td>\n",
       "      <td>USD</td>\n",
       "      <td>0.0</td>\n",
       "      <td>1724546</td>\n",
       "      <td>3842</td>\n",
       "      <td>4.5</td>\n",
       "      <td>4.0</td>\n",
       "      <td>1.6.2</td>\n",
       "      <td>9+</td>\n",
       "      <td>Games</td>\n",
       "      <td>40</td>\n",
       "      <td>5</td>\n",
       "      <td>1</td>\n",
       "      <td>1</td>\n",
       "    </tr>\n",
       "    <tr>\n",
       "      <td>4</td>\n",
       "      <td>284035177</td>\n",
       "      <td>Pandora - Music &amp; Radio</td>\n",
       "      <td>130242560</td>\n",
       "      <td>USD</td>\n",
       "      <td>0.0</td>\n",
       "      <td>1126879</td>\n",
       "      <td>3594</td>\n",
       "      <td>4.0</td>\n",
       "      <td>4.5</td>\n",
       "      <td>8.4.1</td>\n",
       "      <td>12+</td>\n",
       "      <td>Music</td>\n",
       "      <td>37</td>\n",
       "      <td>4</td>\n",
       "      <td>1</td>\n",
       "      <td>1</td>\n",
       "    </tr>\n",
       "  </tbody>\n",
       "</table>\n",
       "</div>"
      ],
      "text/plain": [
       "          id               track_name  size_bytes currency  price  \\\n",
       "0  284882215                 Facebook   389879808      USD    0.0   \n",
       "1  389801252                Instagram   113954816      USD    0.0   \n",
       "2  529479190           Clash of Clans   116476928      USD    0.0   \n",
       "3  420009108               Temple Run    65921024      USD    0.0   \n",
       "4  284035177  Pandora - Music & Radio   130242560      USD    0.0   \n",
       "\n",
       "   rating_count_tot  rating_count_ver  user_rating  user_rating_ver      ver  \\\n",
       "0           2974676               212          3.5              3.5     95.0   \n",
       "1           2161558              1289          4.5              4.0    10.23   \n",
       "2           2130805               579          4.5              4.5  9.24.12   \n",
       "3           1724546              3842          4.5              4.0    1.6.2   \n",
       "4           1126879              3594          4.0              4.5    8.4.1   \n",
       "\n",
       "  cont_rating        prime_genre  sup_devices.num  ipadSc_urls.num  lang.num  \\\n",
       "0          4+  Social Networking               37                1        29   \n",
       "1         12+      Photo & Video               37                0        29   \n",
       "2          9+              Games               38                5        18   \n",
       "3          9+              Games               40                5         1   \n",
       "4         12+              Music               37                4         1   \n",
       "\n",
       "   vpp_lic  \n",
       "0        1  \n",
       "1        1  \n",
       "2        1  \n",
       "3        1  \n",
       "4        1  "
      ]
     },
     "execution_count": 15,
     "metadata": {},
     "output_type": "execute_result"
    }
   ],
   "source": [
    "# You don't need to understand the codes in this cell today (later), I just use it to display the table.\n",
    "# But you need to run it to see the dataset\n",
    "\n",
    "import pandas as pd\n",
    "\n",
    "if use_colab:\n",
    "    dataquest_aio = 'https://raw.githubusercontent.com/dinhanhthi/dataquest-aio/master/step-1-python-introduction/'\n",
    "    dataset_url = dataquest_aio + 'course-1-python-for-ds-fundamentals/data/AppleStore.csv'\n",
    "else:\n",
    "    dataset_url = './data/AppleStore.csv' # if you use localhost\n",
    "    \n",
    "df = pd.read_csv(dataset_url, encoding=\"utf8\")\n",
    "df.head(5) # only show the first 5 rows of the dataset"
   ]
  },
  {
   "cell_type": "code",
   "execution_count": 83,
   "metadata": {
    "scrolled": true
   },
   "outputs": [],
   "source": [
    "from csv import reader\n",
    "from urllib.request import urlopen\n",
    "\n",
    "if use_colab: # you run this file on Google Colab?\n",
    "    opened_file = urlopen(dataset_url).read().decode('utf-8')\n",
    "    read_file = reader(opened_file.splitlines())\n",
    "else: # you run this file on localhost?\n",
    "    opened_file = open(dataset_url, encoding=\"utf8\")\n",
    "    read_file = reader(opened_file)\n",
    "\n",
    "apps_data = list(read_file)"
   ]
  },
  {
   "cell_type": "markdown",
   "metadata": {},
   "source": [
    "❓ **Question**: Find the average rating of free apps?\n",
    "\n",
    "💡 **Hint**:\n",
    "\n",
    "- \"Free\": price = 0 -> conside the `price` column and find the ones who have 0 price.\n",
    "- We need to construct a list containing all ratings of free apps.\n",
    "- The final step is to find the average of above list.\n",
    "\n",
    "Let's do all above!"
   ]
  },
  {
   "cell_type": "code",
   "execution_count": 3,
   "metadata": {},
   "outputs": [
    {
     "name": "stdout",
     "output_type": "stream",
     "text": [
      "Average rating of free apps:  3.38\n"
     ]
    }
   ],
   "source": [
    "free_apps_ratings = [] # initial list\n",
    "for row in apps_data[1:]: # 1st row is the column's name so we don't consider it, we only consider from the 2nd row ([1:])\n",
    "    rating = float(row[7]) # rating column's index is 7 (8th column)\n",
    "    price = float(row[4]) # get the price of that column\n",
    "    if price == 0.0: # find the free app\n",
    "        free_apps_ratings.append(rating)\n",
    "        \n",
    "avg_rating_free = sum(free_apps_ratings) / len(free_apps_ratings)\n",
    "print(\"Average rating of free apps: \", round(avg_rating_free, 2)) # round up to 2 digits of the decimal part of number"
   ]
  },
  {
   "cell_type": "markdown",
   "metadata": {},
   "source": [
    "👉 **COMPARISON OPERATORS IN `if`** statement.\n",
    "\n",
    "We can use `==`, `>`, `<`, `>=`, `<=`, `!=` (different), `and`, `or`."
   ]
  },
  {
   "cell_type": "markdown",
   "metadata": {},
   "source": [
    "❓ **Question**: Compare the different rating between free and non-free apps. Which one is better?\n",
    "\n",
    "💡 **Hint**: The same as in the case of free apps, we find the average of non-free apps and then compare the results."
   ]
  },
  {
   "cell_type": "code",
   "execution_count": 4,
   "metadata": {},
   "outputs": [
    {
     "name": "stdout",
     "output_type": "stream",
     "text": [
      "Average rating of non-free apps:  3.72\n",
      "On average, non-free apps are rated better than free apps!\n"
     ]
    }
   ],
   "source": [
    "non_free_apps_ratings = [] # initial list\n",
    "for row in apps_data[1:]: # 1st row is the column's name so we don't consider it, we only consider from the 2nd row ([1:])\n",
    "    rating = float(row[7]) # rating column's index is 7 (8th column)\n",
    "    price = float(row[4]) # get the price of that column\n",
    "    if price != 0.0: # find the non-free app\n",
    "        non_free_apps_ratings.append(rating)\n",
    "        \n",
    "avg_rating_non_free = sum(non_free_apps_ratings) / len(non_free_apps_ratings)\n",
    "print(\"Average rating of non-free apps: \", round(avg_rating_non_free, 2))\n",
    "\n",
    "# Compare 2 results\n",
    "if avg_rating_free > avg_rating_non_free:\n",
    "    print(\"On average, free apps are rated better than non-free apps!\")\n",
    "elif(avg_rating_free == avg_rating_non_free):\n",
    "    print(\"They have the same average rating!\")\n",
    "else:\n",
    "    print(\"On average, non-free apps are rated better than free apps!\")"
   ]
  },
  {
   "cell_type": "markdown",
   "metadata": {},
   "source": [
    "**About above codes**:\n",
    "\n",
    "- In line `price = float(row[4])`, we need to convert `row[4]` which has a `str` type to `float` number.\n",
    "- We have used `elif` (\"else if\") = another `if` inside the `else` of the 1st one.\n",
    "\n",
    "This is not to say that non-free apps are, on average, better than free apps — all we can say for sure is that iOS users generally appreciate non-free apps more. This may be because the non-free apps are indeed better, but it may also be that people are a bit biased to give higher ratings to non-free apps to convince themselves that they made a good investment."
   ]
  },
  {
   "cell_type": "markdown",
   "metadata": {},
   "source": [
    "❓ **Question**: Compare the different rating between game and non-game apps. Which one is better?\n",
    "\n",
    "💡 **Hint**: This time, we put 2 game types inside one loop.  Note that, the type of game is in column `prime_genre` whose index is `11`."
   ]
  },
  {
   "cell_type": "code",
   "execution_count": 5,
   "metadata": {},
   "outputs": [
    {
     "name": "stdout",
     "output_type": "stream",
     "text": [
      "Average rating of game apps:  3.34\n",
      "Average rating of non-game apps:  3.34\n",
      "On average, game apps are rated better than non-game apps!\n"
     ]
    }
   ],
   "source": [
    "game_apps_ratings = [] # initial list\n",
    "non_game_apps_ratings = [] # initial list\n",
    "for row in apps_data[1:]: # 1st row is the column's name so we don't consider it, we only consider from the 2nd row ([1:])\n",
    "    rating = float(row[7]) # rating column's index is 7 (8th column)\n",
    "    genre = row[11]\n",
    "    if genre == 'Games': # game apps\n",
    "        game_apps_ratings.append(rating)\n",
    "    else: # non-game apps\n",
    "        non_game_apps_ratings.append(rating)\n",
    "        \n",
    "avg_rating_game = sum(game_apps_ratings) / len(game_apps_ratings)\n",
    "avg_rating_non_game = sum(non_game_apps_ratings) / len(non_game_apps_ratings)\n",
    "print(\"Average rating of game apps: \", round(avg_rating_non_game, 2))\n",
    "print(\"Average rating of non-game apps: \", round(avg_rating_non_game, 2))\n",
    "\n",
    "# Compare 2 results\n",
    "if avg_rating_game > avg_rating_non_game:\n",
    "    print(\"On average, game apps are rated better than non-game apps!\")\n",
    "elif(avg_rating_game == avg_rating_non_game):\n",
    "    print(\"They have the same average rating!\")\n",
    "else:\n",
    "    print(\"On average, non-game apps are rated better than game apps!\")"
   ]
  },
  {
   "cell_type": "markdown",
   "metadata": {},
   "source": [
    "This might be because gaming apps offer much more entertainment, which makes the users more inclined to give higher ratings."
   ]
  },
  {
   "cell_type": "markdown",
   "metadata": {},
   "source": [
    "❓ **Question**: What is the average rating of free game apps?\n",
    "\n",
    "💡 **Hint**: This time, we consider 2 conditions: this app is free (column 4) and it's a game (column 11). Using `and` in the `if` statement."
   ]
  },
  {
   "cell_type": "code",
   "execution_count": 6,
   "metadata": {},
   "outputs": [
    {
     "name": "stdout",
     "output_type": "stream",
     "text": [
      "Average rating of free game apps:  3.5285777580859548\n"
     ]
    }
   ],
   "source": [
    "free_games_ratings = []\n",
    "for row in apps_data[1:]: # loop through all of rows\n",
    "    rating = float(row[7]) # get the rating\n",
    "    price = float(row[4]) # get the price\n",
    "    genre = row[11] # get the type of app\n",
    "    if price == 0.0 and genre == 'Games': # both conditions must be satisfied <- using \"and\"\n",
    "        free_games_ratings.append(rating)\n",
    "        \n",
    "avg_rating_free_games = sum(free_games_ratings) / len(free_games_ratings)\n",
    "print(\"Average rating of free game apps: \", avg_rating_free_games)"
   ]
  },
  {
   "cell_type": "markdown",
   "metadata": {},
   "source": [
    "👉 Differences between `and` and `or`?"
   ]
  },
  {
   "cell_type": "code",
   "execution_count": 7,
   "metadata": {},
   "outputs": [
    {
     "name": "stdout",
     "output_type": "stream",
     "text": [
      "True and True:  True\n",
      "True and False:  False\n",
      "False and True:  False\n",
      "False and False:  False\n"
     ]
    }
   ],
   "source": [
    "# \"A and B\" is only True if both are true\n",
    "print(\"True and True: \", True and True)\n",
    "print(\"True and False: \", True and False)\n",
    "print(\"False and True: \", False and True)\n",
    "print(\"False and False: \", False and False)"
   ]
  },
  {
   "cell_type": "code",
   "execution_count": 8,
   "metadata": {},
   "outputs": [
    {
     "name": "stdout",
     "output_type": "stream",
     "text": [
      "True or True:  True\n",
      "True or False:  True\n",
      "False or True:  True\n",
      "False or False:  False\n"
     ]
    }
   ],
   "source": [
    "# \"A or B\" is only False if both are False\n",
    "print(\"True or True: \", True or True)\n",
    "print(\"True or False: \", True or False)\n",
    "print(\"False or True: \", False or True)\n",
    "print(\"False or False: \", False or False)"
   ]
  },
  {
   "cell_type": "markdown",
   "metadata": {},
   "source": [
    "❓ **Question**: The average rating of the apps whose genre is either \"Social Networking\" or \"Games.\"\n",
    "\n",
    "💡 **Hint**: \"either\" means \"using `or`\"."
   ]
  },
  {
   "cell_type": "code",
   "execution_count": 9,
   "metadata": {},
   "outputs": [
    {
     "name": "stdout",
     "output_type": "stream",
     "text": [
      "Average rating of Social/Games apps:  3.655994043186895\n"
     ]
    }
   ],
   "source": [
    "games_social_ratings = []\n",
    "for row in apps_data[1:]:\n",
    "    rating = float(row[7]) # get the rating, don't forget to transform to `float` type.\n",
    "    genre = row[11] # get the type of app\n",
    "    if genre == 'Social Networking' or genre == 'Games': # either of them is satisfied\n",
    "        games_social_ratings.append(rating)\n",
    "        \n",
    "avg_games_social = sum(games_social_ratings) / len(games_social_ratings)\n",
    "print(\"Average rating of Social/Games apps: \", avg_games_social)"
   ]
  },
  {
   "cell_type": "markdown",
   "metadata": {},
   "source": [
    "❓ **Question** (optional): The average rating of the apps whose genre is either \"Social Networking\" or \"Games\" and they must be FREE?"
   ]
  },
  {
   "cell_type": "code",
   "execution_count": 10,
   "metadata": {},
   "outputs": [
    {
     "name": "stdout",
     "output_type": "stream",
     "text": [
      "3.496875\n",
      "3.8904235727440146\n"
     ]
    }
   ],
   "source": [
    "# Free apps (average)\n",
    "free_games_social_ratings = []\n",
    "for row in apps_data[1:]:\n",
    "    rating = float(row[7])\n",
    "    genre = row[11]\n",
    "    price = float(row[4])\n",
    "    \n",
    "    if (genre == 'Social Networking' or genre == 'Games') and price == 0:\n",
    "        free_games_social_ratings.append(rating)\n",
    "        \n",
    "avg_free = sum(free_games_social_ratings) / len(free_games_social_ratings)\n",
    "print(avg_free)\n",
    "\n",
    "# Non-free apps (average)\n",
    "nonfree_games_social_ratings = []\n",
    "for row in apps_data[1:]:\n",
    "    rating = float(row[7])\n",
    "    genre = row[11]\n",
    "    price = float(row[4])\n",
    "    \n",
    "    if (genre == 'Social Networking' or genre == 'Games') and price != 0:\n",
    "        nonfree_games_social_ratings.append(rating)\n",
    "        \n",
    "avg_non_free = sum(nonfree_games_social_ratings) / len(nonfree_games_social_ratings)\n",
    "print(avg_non_free)"
   ]
  },
  {
   "cell_type": "markdown",
   "metadata": {},
   "source": [
    "💡 In Python, we have special operators for each of the comparison operations:\n",
    "\n",
    "<img src=\"img/py1m3_comp_operators.jpg\" width=\"400\"/>"
   ]
  },
  {
   "cell_type": "markdown",
   "metadata": {},
   "source": [
    "❓ **Question**: Add a column `free_or_not` into `apps_data` which tell the status (free or not) of each app.\n",
    "\n",
    "💡 **Hint**:\n",
    "\n",
    "- Loop through all rows (except the 1st one), each row, check and add (`.append`) either `free` or `non-free`.\n",
    "- Add column's name `free_or_not` to the 1st row."
   ]
  },
  {
   "cell_type": "code",
   "execution_count": 11,
   "metadata": {},
   "outputs": [
    {
     "name": "stdout",
     "output_type": "stream",
     "text": [
      "[['id', 'track_name', 'size_bytes', 'currency', 'price', 'rating_count_tot', 'rating_count_ver', 'user_rating', 'user_rating_ver', 'ver', 'cont_rating', 'prime_genre', 'sup_devices.num', 'ipadSc_urls.num', 'lang.num', 'vpp_lic', 'free_or_not'], ['284882215', 'Facebook', '389879808', 'USD', '0.0', '2974676', '212', '3.5', '3.5', '95.0', '4+', 'Social Networking', '37', '1', '29', '1', 'free'], ['389801252', 'Instagram', '113954816', 'USD', '0.0', '2161558', '1289', '4.5', '4.0', '10.23', '12+', 'Photo & Video', '37', '0', '29', '1', 'free'], ['529479190', 'Clash of Clans', '116476928', 'USD', '0.0', '2130805', '579', '4.5', '4.5', '9.24.12', '9+', 'Games', '38', '5', '18', '1', 'free'], ['420009108', 'Temple Run', '65921024', 'USD', '0.0', '1724546', '3842', '4.5', '4.0', '1.6.2', '9+', 'Games', '40', '5', '1', '1', 'free'], ['284035177', 'Pandora - Music & Radio', '130242560', 'USD', '0.0', '1126879', '3594', '4.0', '4.5', '8.4.1', '12+', 'Music', '37', '4', '1', '1', 'free']]\n"
     ]
    }
   ],
   "source": [
    "for app in apps_data[1:]:\n",
    "    price = float(app[4])   \n",
    "    if price == 0.0:\n",
    "        app.append('free')\n",
    "    else:\n",
    "        app.append('non-free')\n",
    "\n",
    "apps_data[0].append('free_or_not')\n",
    "print(apps_data[:6])"
   ]
  }
 ],
 "metadata": {
  "kernelspec": {
   "display_name": "Python 3",
   "language": "python",
   "name": "python3"
  },
  "language_info": {
   "codemirror_mode": {
    "name": "ipython",
    "version": 3
   },
   "file_extension": ".py",
   "mimetype": "text/x-python",
   "name": "python",
   "nbconvert_exporter": "python",
   "pygments_lexer": "ipython3",
   "version": "3.7.4"
  }
 },
 "nbformat": 4,
 "nbformat_minor": 2
}
