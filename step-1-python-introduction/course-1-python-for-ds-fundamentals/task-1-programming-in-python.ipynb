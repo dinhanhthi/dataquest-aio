{
 "cells": [
  {
   "cell_type": "markdown",
   "metadata": {
    "colab_type": "text",
    "id": "view-in-github"
   },
   "source": [
    "<a href=\"https://colab.research.google.com/github/dinhanhthi/dataquest-aio/blob/master/step-1-python-introduction/course-1-python-for-ds-fundamentals/1%20-%20Programming%20in%20Python.ipynb\" target=\"_parent\"><img src=\"https://colab.research.google.com/assets/colab-badge.svg\" alt=\"Open In Colab\"/></a>"
   ]
  },
  {
   "cell_type": "markdown",
   "metadata": {
    "colab_type": "text",
    "id": "mhYWb0MpHuJy"
   },
   "source": [
    "# 🐍 Step 1 - Python Introduction \n",
    "\n",
    "## 📚 Course 1: Python for Data Science: Fundamentals \n",
    "\n",
    "## 1️⃣ Programming in Python\n",
    "\n",
    "---\n",
    "\n",
    "👦 [Anh-Thi DINH](https://dinhanhthi.com) — 🔥 [dataquest-aio](https://github.com/dinhanhthi/dataquest-aio) on Github.\n",
    "\n",
    "⚡ **Note**: Some errors in this notebook appear intentionally to illustrate the wrong commands."
   ]
  },
  {
   "cell_type": "markdown",
   "metadata": {
    "colab_type": "text",
    "id": "1MCqAKeCHuJ2"
   },
   "source": [
    "## 📝 Mission 311\n",
    "\n",
    "⏬ Download the takeaway for this mission in folder `/takeaways/` [on Github](https://github.com/dinhanhthi/dataquest-aio/tree/master/takeaways). [Source](https://app.dataquest.io/m/311/programming-in-python) of this mission."
   ]
  },
  {
   "cell_type": "code",
   "execution_count": 0,
   "metadata": {
    "colab": {},
    "colab_type": "code",
    "id": "wNeVuMXQHuJ6",
    "outputId": "72c3ae3f-be74-4376-fb3c-58de6983b180"
   },
   "outputs": [
    {
     "data": {
      "text/plain": [
       "50"
      ]
     },
     "execution_count": 1,
     "metadata": {
      "tags": []
     },
     "output_type": "execute_result"
    }
   ],
   "source": [
    "8 + 42"
   ]
  },
  {
   "cell_type": "code",
   "execution_count": 0,
   "metadata": {
    "colab": {},
    "colab_type": "code",
    "id": "ubA0be3XHuKA",
    "outputId": "9dbc916e-5f73-49e8-dbdc-cabc48396073"
   },
   "outputs": [
    {
     "name": "stdout",
     "output_type": "stream",
     "text": [
      "42\n"
     ]
    }
   ],
   "source": [
    "# display the result\n",
    "print(40 + 2)"
   ]
  },
  {
   "cell_type": "code",
   "execution_count": 0,
   "metadata": {
    "colab": {},
    "colab_type": "code",
    "id": "aq68yjQ8HuKF",
    "outputId": "f3e5fe69-65d3-40c4-8530-309426d840c3"
   },
   "outputs": [
    {
     "ename": "SyntaxError",
     "evalue": "invalid syntax (<ipython-input-3-b98dff18fc8d>, line 2)",
     "output_type": "error",
     "traceback": [
      "\u001b[1;36m  File \u001b[1;32m\"<ipython-input-3-b98dff18fc8d>\"\u001b[1;36m, line \u001b[1;32m2\u001b[0m\n\u001b[1;33m    print(20 + 7) print(10 + 2)\u001b[0m\n\u001b[1;37m                      ^\u001b[0m\n\u001b[1;31mSyntaxError\u001b[0m\u001b[1;31m:\u001b[0m invalid syntax\n"
     ]
    }
   ],
   "source": [
    "# the same line\n",
    "print(20 + 7) print(10 + 2)"
   ]
  },
  {
   "cell_type": "code",
   "execution_count": 0,
   "metadata": {
    "colab": {},
    "colab_type": "code",
    "id": "1ilxTnwPHuKK",
    "outputId": "50c0031e-7802-480c-f71c-174c247a4563"
   },
   "outputs": [
    {
     "name": "stdout",
     "output_type": "stream",
     "text": [
      "27\n",
      "12\n"
     ]
    }
   ],
   "source": [
    "# separate lines\n",
    "print(20 + 7)\n",
    "print(10 +2)"
   ]
  },
  {
   "cell_type": "code",
   "execution_count": 0,
   "metadata": {
    "colab": {},
    "colab_type": "code",
    "id": "wnSF8XQ6HuKO",
    "outputId": "4df0f608-d6c9-4ad6-f071-60d499249784"
   },
   "outputs": [
    {
     "name": "stdout",
     "output_type": "stream",
     "text": [
      "6\n",
      "4\n"
     ]
    }
   ],
   "source": [
    "# the order of lines (who comes first will be excuted first)\n",
    "print(5 + 1)\n",
    "print(5 - 1)"
   ]
  },
  {
   "cell_type": "code",
   "execution_count": 0,
   "metadata": {
    "colab": {},
    "colab_type": "code",
    "id": "tqrvwhThHuKR",
    "outputId": "4d3ce1a8-1f98-4f7e-940e-8205b2e1f6e2"
   },
   "outputs": [
    {
     "name": "stdout",
     "output_type": "stream",
     "text": [
      "4\n",
      "6\n"
     ]
    }
   ],
   "source": [
    "# different orders in comparison with the above codes\n",
    "print(5 - 1)\n",
    "print(5 + 1)"
   ]
  },
  {
   "cell_type": "code",
   "execution_count": 0,
   "metadata": {
    "colab": {},
    "colab_type": "code",
    "id": "xs5mm4YpHuKU",
    "outputId": "c59ead2b-d45f-4321-f73c-841da65f4590"
   },
   "outputs": [
    {
     "name": "stdout",
     "output_type": "stream",
     "text": [
      "160\n",
      "4.0\n",
      "4\n",
      "8\n",
      "1\n"
     ]
    }
   ],
   "source": [
    "# other math operators\n",
    "print(16*10) # multiplication\n",
    "print(16/4) # division (always gives real numbers)\n",
    "print(17//4) # division giving integer numbers\n",
    "print(2**3) # power\n",
    "print(10%3) # modulo"
   ]
  },
  {
   "cell_type": "code",
   "execution_count": 0,
   "metadata": {
    "colab": {},
    "colab_type": "code",
    "id": "e3vnZZLvHuKZ",
    "outputId": "808aec67-1500-4acc-847f-4d60eee4b2a4"
   },
   "outputs": [
    {
     "name": "stdout",
     "output_type": "stream",
     "text": [
      "1>2:  False\n",
      "0==True:  False\n",
      "1 != 2:  True\n",
      "1<=2:  True\n"
     ]
    }
   ],
   "source": [
    "# python comparison operators\n",
    "print(\"1>2: \", 1>2)\n",
    "print(\"0==True: \", 0==True)\n",
    "print(\"1 != 2: \", 1!=2)\n",
    "print(\"1<=2: \", 1<=2)"
   ]
  },
  {
   "cell_type": "code",
   "execution_count": 0,
   "metadata": {
    "colab": {},
    "colab_type": "code",
    "id": "8uPBT_DqHuKc",
    "outputId": "2ebe95c3-c911-45a5-b015-5beb0c3c5571"
   },
   "outputs": [
    {
     "name": "stdout",
     "output_type": "stream",
     "text": [
      "12\n"
     ]
    }
   ],
   "source": [
    "# assign values to variables\n",
    "result = (2 + 1) * 4\n",
    "print(result)"
   ]
  },
  {
   "cell_type": "code",
   "execution_count": 0,
   "metadata": {
    "colab": {},
    "colab_type": "code",
    "id": "zfrxiSjCHuKf",
    "outputId": "3fb54375-a576-4aea-8d8c-e5092f761f49"
   },
   "outputs": [
    {
     "name": "stdout",
     "output_type": "stream",
     "text": [
      "13\n",
      "24\n"
     ]
    }
   ],
   "source": [
    "# and then you can use this variables to make other tasks\n",
    "print(result + 1)\n",
    "\n",
    "result = result*2\n",
    "print(result)"
   ]
  },
  {
   "cell_type": "code",
   "execution_count": 0,
   "metadata": {
    "colab": {},
    "colab_type": "code",
    "id": "mYV3B1__HuKk",
    "outputId": "b329d74a-eba7-4bca-d20b-05cef8b4243d"
   },
   "outputs": [
    {
     "name": "stdout",
     "output_type": "stream",
     "text": [
      "12\n"
     ]
    }
   ],
   "source": [
    "# for the second line of code above, you can use an alternative\n",
    "result = 10\n",
    "result += 2 # euquiv to result = result + 2\n",
    "print(result)"
   ]
  },
  {
   "cell_type": "code",
   "execution_count": 0,
   "metadata": {
    "colab": {},
    "colab_type": "code",
    "id": "ZRYnd1GjHuKo",
    "outputId": "f1075ebd-859e-494b-d8c2-de836754c5b5"
   },
   "outputs": [
    {
     "name": "stdout",
     "output_type": "stream",
     "text": [
      "6\n",
      "3.0\n"
     ]
    }
   ],
   "source": [
    "# make the same for other operators\n",
    "result = 2\n",
    "result *= 3\n",
    "print(result)\n",
    "\n",
    "result /= 2\n",
    "print(result)"
   ]
  },
  {
   "cell_type": "code",
   "execution_count": 0,
   "metadata": {
    "colab": {},
    "colab_type": "code",
    "id": "1bOh8XrkHuKs",
    "outputId": "68344d03-9065-4e04-d57c-941f65265a09"
   },
   "outputs": [
    {
     "name": "stdout",
     "output_type": "stream",
     "text": [
      "<class 'int'>\n",
      "<class 'float'>\n"
     ]
    }
   ],
   "source": [
    "# type of numbers\n",
    "print(type(2))\n",
    "print(type(2.0))"
   ]
  },
  {
   "cell_type": "code",
   "execution_count": 0,
   "metadata": {
    "colab": {},
    "colab_type": "code",
    "id": "wcmlLq_4HuKw",
    "outputId": "f7ce8a1c-c955-4d0c-db7b-e47e09902948"
   },
   "outputs": [
    {
     "name": "stdout",
     "output_type": "stream",
     "text": [
      "4\n",
      "4.0\n",
      "4.3\n",
      "4\n"
     ]
    }
   ],
   "source": [
    "# change the type of number\n",
    "print(4)\n",
    "print(float(4))\n",
    "\n",
    "print(4.3)\n",
    "print(int(4.3))"
   ]
  },
  {
   "cell_type": "code",
   "execution_count": 0,
   "metadata": {
    "colab": {},
    "colab_type": "code",
    "id": "eyPKRdOPHuK1",
    "outputId": "ef2f61cd-1e66-4138-acf7-1c9c7fb5b98b",
    "scrolled": true
   },
   "outputs": [
    {
     "name": "stdout",
     "output_type": "stream",
     "text": [
      "4\n",
      "2\n"
     ]
    }
   ],
   "source": [
    "# round numbers\n",
    "print(round(3.7))\n",
    "print(round(2.3))"
   ]
  },
  {
   "cell_type": "markdown",
   "metadata": {
    "colab_type": "text",
    "id": "j50dXC--HuK6"
   },
   "source": [
    "👉 **STRING**"
   ]
  },
  {
   "cell_type": "code",
   "execution_count": 0,
   "metadata": {
    "colab": {},
    "colab_type": "code",
    "id": "vqCdSEHWHuK7",
    "outputId": "73bc6eb0-e752-4fc8-f9dc-abb037456b63"
   },
   "outputs": [
    {
     "name": "stdout",
     "output_type": "stream",
     "text": [
      "Anh-Thi Dinh\n",
      "<class 'str'>\n",
      "30\n",
      "<class 'str'>\n",
      "3\n",
      "<class 'int'>\n"
     ]
    }
   ],
   "source": [
    "# string\n",
    "name = \"Anh-Thi Dinh\"\n",
    "print(name)\n",
    "print(type(name))\n",
    "\n",
    "# using '' instead of \"\"\n",
    "age = '30' # not a number, it's a string!\n",
    "print(age)\n",
    "print(type(age))\n",
    "\n",
    "# favorite number\n",
    "fav_num = 3 # it's a number\n",
    "print(fav_num)\n",
    "print(type(fav_num))"
   ]
  },
  {
   "cell_type": "code",
   "execution_count": 0,
   "metadata": {
    "colab": {},
    "colab_type": "code",
    "id": "JYoc0lvwHuK_",
    "outputId": "d1cdc58a-5c9a-48cf-935f-60867919fcff"
   },
   "outputs": [
    {
     "name": "stdout",
     "output_type": "stream",
     "text": [
      "'If you don't understand it, ask me any question!' - I said.\n",
      "\"If you don't understand it, ask me any question!\" - I said.\n"
     ]
    }
   ],
   "source": [
    "# intermix \"\" and ''\n",
    "print(\"'If you don't understand it, ask me any question!' - I said.\")\n",
    "\n",
    "print('\"If you don\\'t understand it, ask me any question!\" - I said.') # using backslash before special characters"
   ]
  },
  {
   "cell_type": "code",
   "execution_count": 0,
   "metadata": {
    "colab": {},
    "colab_type": "code",
    "id": "RYULp5HYHuLD",
    "outputId": "94a9dd1f-8cca-46f7-b0c0-8288aebac57a"
   },
   "outputs": [
    {
     "name": "stdout",
     "output_type": "stream",
     "text": [
      "aa\n",
      "a a a \n",
      "ab\n"
     ]
    }
   ],
   "source": [
    "# we can do math with string!\n",
    "print('a' * 2)\n",
    "print('a ' * 3) # there is a space\n",
    "print('a' + 'b')"
   ]
  },
  {
   "cell_type": "code",
   "execution_count": 0,
   "metadata": {
    "colab": {},
    "colab_type": "code",
    "id": "LwKlbBoRHuLI",
    "outputId": "17adb062-bada-4b25-fc4a-dae1e07534cb"
   },
   "outputs": [
    {
     "ename": "TypeError",
     "evalue": "can only concatenate str (not \"int\") to str",
     "output_type": "error",
     "traceback": [
      "\u001b[1;31m---------------------------------------------------------------------------\u001b[0m",
      "\u001b[1;31mTypeError\u001b[0m                                 Traceback (most recent call last)",
      "\u001b[1;32m<ipython-input-20-b9401ae90b9e>\u001b[0m in \u001b[0;36m<module>\u001b[1;34m\u001b[0m\n\u001b[0;32m      1\u001b[0m \u001b[1;31m# we can't perform operators between strings and integers\u001b[0m\u001b[1;33m\u001b[0m\u001b[1;33m\u001b[0m\u001b[1;33m\u001b[0m\u001b[0m\n\u001b[1;32m----> 2\u001b[1;33m \u001b[0mprint\u001b[0m\u001b[1;33m(\u001b[0m\u001b[1;34m'a'\u001b[0m \u001b[1;33m+\u001b[0m \u001b[1;36m3\u001b[0m\u001b[1;33m)\u001b[0m\u001b[1;33m\u001b[0m\u001b[1;33m\u001b[0m\u001b[0m\n\u001b[0m",
      "\u001b[1;31mTypeError\u001b[0m: can only concatenate str (not \"int\") to str"
     ]
    }
   ],
   "source": [
    "# we can't perform operators between strings and integers\n",
    "print('a' + 3)"
   ]
  },
  {
   "cell_type": "code",
   "execution_count": 0,
   "metadata": {
    "colab": {},
    "colab_type": "code",
    "id": "WWTWyWX7HuLM",
    "outputId": "7d4b5764-ff91-4c74-f4ff-bd5f83b6aaaf"
   },
   "outputs": [
    {
     "name": "stdout",
     "output_type": "stream",
     "text": [
      "5\n"
     ]
    }
   ],
   "source": [
    "# we do that if this string represents a number\n",
    "print(int('4') + 1)"
   ]
  },
  {
   "cell_type": "code",
   "execution_count": 0,
   "metadata": {
    "colab": {},
    "colab_type": "code",
    "id": "f5Ia8tFyHuLW",
    "outputId": "2b55d81f-71cb-471e-b779-be86c1968842"
   },
   "outputs": [
    {
     "ename": "ValueError",
     "evalue": "invalid literal for int() with base 10: 'thi'",
     "output_type": "error",
     "traceback": [
      "\u001b[1;31m---------------------------------------------------------------------------\u001b[0m",
      "\u001b[1;31mValueError\u001b[0m                                Traceback (most recent call last)",
      "\u001b[1;32m<ipython-input-22-2754c3cb234b>\u001b[0m in \u001b[0;36m<module>\u001b[1;34m\u001b[0m\n\u001b[0;32m      1\u001b[0m \u001b[1;31m# but we can't do this because 'thi' doesn't represent a number\u001b[0m\u001b[1;33m\u001b[0m\u001b[1;33m\u001b[0m\u001b[1;33m\u001b[0m\u001b[0m\n\u001b[1;32m----> 2\u001b[1;33m \u001b[0mprint\u001b[0m\u001b[1;33m(\u001b[0m\u001b[0mint\u001b[0m\u001b[1;33m(\u001b[0m\u001b[1;34m'thi'\u001b[0m\u001b[1;33m)\u001b[0m \u001b[1;33m+\u001b[0m \u001b[1;36m1\u001b[0m\u001b[1;33m)\u001b[0m\u001b[1;33m\u001b[0m\u001b[1;33m\u001b[0m\u001b[0m\n\u001b[0m",
      "\u001b[1;31mValueError\u001b[0m: invalid literal for int() with base 10: 'thi'"
     ]
    }
   ],
   "source": [
    "# but we can't do this because 'thi' doesn't represent a number\n",
    "print(int('thi') + 1)"
   ]
  },
  {
   "cell_type": "code",
   "execution_count": 0,
   "metadata": {
    "colab": {},
    "colab_type": "code",
    "id": "jOAF2OtkHuLj",
    "outputId": "8bf5eefe-79b3-4b0a-b9b9-5b6b05ad8f0f"
   },
   "outputs": [
    {
     "name": "stdout",
     "output_type": "stream",
     "text": [
      "4\n",
      "4thi\n"
     ]
    }
   ],
   "source": [
    "print(str(4))\n",
    "print(str(4) + 'thi')"
   ]
  },
  {
   "cell_type": "code",
   "execution_count": 0,
   "metadata": {
    "colab": {},
    "colab_type": "code",
    "id": "T8vq5sP3HuLp",
    "outputId": "4c33aba0-13f7-4c9e-9ffb-8b6e4204bdcf"
   },
   "outputs": [
    {
     "ename": "ValueError",
     "evalue": "invalid literal for int() with base 10: '3.3'",
     "output_type": "error",
     "traceback": [
      "\u001b[1;31m---------------------------------------------------------------------------\u001b[0m",
      "\u001b[1;31mValueError\u001b[0m                                Traceback (most recent call last)",
      "\u001b[1;32m<ipython-input-24-dd114d143004>\u001b[0m in \u001b[0;36m<module>\u001b[1;34m\u001b[0m\n\u001b[1;32m----> 1\u001b[1;33m \u001b[0mprint\u001b[0m\u001b[1;33m(\u001b[0m\u001b[0mint\u001b[0m\u001b[1;33m(\u001b[0m\u001b[1;34m'3.3'\u001b[0m\u001b[1;33m)\u001b[0m\u001b[1;33m)\u001b[0m \u001b[1;31m# we can't because 3.3 is not a integer number\u001b[0m\u001b[1;33m\u001b[0m\u001b[1;33m\u001b[0m\u001b[0m\n\u001b[0m",
      "\u001b[1;31mValueError\u001b[0m: invalid literal for int() with base 10: '3.3'"
     ]
    }
   ],
   "source": [
    "print(int('3.3')) # we can't because 3.3 is not a integer number"
   ]
  },
  {
   "cell_type": "code",
   "execution_count": 0,
   "metadata": {
    "colab": {},
    "colab_type": "code",
    "id": "p-aKQA_dHuLx",
    "outputId": "28aa4dde-36b9-42f3-ae47-196a65647405"
   },
   "outputs": [
    {
     "name": "stdout",
     "output_type": "stream",
     "text": [
      "3.3\n"
     ]
    }
   ],
   "source": [
    "# but we can do this\n",
    "print(float('3.3'))"
   ]
  },
  {
   "cell_type": "markdown",
   "metadata": {
    "colab_type": "text",
    "id": "bzFrC3h9HuL3"
   },
   "source": [
    "👉 **BLOCK** of texts."
   ]
  },
  {
   "cell_type": "code",
   "execution_count": 0,
   "metadata": {
    "colab": {},
    "colab_type": "code",
    "id": "8GkVMzhyHuL4",
    "outputId": "7478c172-fd3c-48ac-aab7-36898c6076e3"
   },
   "outputs": [
    {
     "name": "stdout",
     "output_type": "stream",
     "text": [
      "This is a sentence.\n",
      "This is another sentence.    \n",
      "\n"
     ]
    }
   ],
   "source": [
    "# if you wanna a block of texts?\n",
    "text = '''This is a sentence.\n",
    "This is another sentence.    \n",
    "'''\n",
    "print(text)"
   ]
  },
  {
   "cell_type": "code",
   "execution_count": 0,
   "metadata": {
    "colab": {},
    "colab_type": "code",
    "id": "InfOrlW8HuL9",
    "outputId": "52e7a5e7-284b-441f-ec91-cc596d38c98f",
    "scrolled": true
   },
   "outputs": [
    {
     "name": "stdout",
     "output_type": "stream",
     "text": [
      "This is a sentence.\n",
      "This is another sentence.\n",
      "\n"
     ]
    }
   ],
   "source": [
    "# you can use \"\"\"\n",
    "text2 = \"\"\"This is a sentence.\n",
    "This is another sentence.\n",
    "\"\"\"\n",
    "print(text2)"
   ]
  }
 ],
 "metadata": {
  "colab": {
   "include_colab_link": true,
   "name": "1 - Programming in Python.ipynb",
   "provenance": [],
   "toc_visible": true
  },
  "kernelspec": {
   "display_name": "Python 3",
   "language": "python",
   "name": "python3"
  },
  "language_info": {
   "codemirror_mode": {
    "name": "ipython",
    "version": 3
   },
   "file_extension": ".py",
   "mimetype": "text/x-python",
   "name": "python",
   "nbconvert_exporter": "python",
   "pygments_lexer": "ipython3",
   "version": "3.7.4"
  }
 },
 "nbformat": 4,
 "nbformat_minor": 1
}
